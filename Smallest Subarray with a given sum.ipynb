{
 "cells": [
  {
   "cell_type": "code",
   "execution_count": 2,
   "metadata": {},
   "outputs": [
    {
     "name": "stdout",
     "output_type": "stream",
     "text": [
      "Smallest subarray length is: 2\n"
     ]
    }
   ],
   "source": [
    "import math\n",
    "\n",
    "def smallest_subarray_with_given_sum(s,arr):\n",
    "    window_sum=0\n",
    "    min_length=math.inf\n",
    "    window_start=0\n",
    "    \n",
    "    for window_end in range(0,len(arr)):\n",
    "        window_sum+=arr[window_end]#add the next element\n",
    "        #shrink the window as small as possible until the window sum is smaller than s.\n",
    "        while window_sum>=s:\n",
    "            min_length=min(min_length,window_end-window_start+1)\n",
    "            window_sum-=arr[window_start]\n",
    "            window_start+=1\n",
    "    if min_length == math.inf:\n",
    "        return 0\n",
    "    return min_length\n",
    "\n",
    "print(\"Smallest subarray length is: \"+ str(smallest_subarray_with_given_sum(7,[2, 1, 5, 2, 3, 2])))"
   ]
  },
  {
   "cell_type": "code",
   "execution_count": null,
   "metadata": {},
   "outputs": [],
   "source": []
  }
 ],
 "metadata": {
  "kernelspec": {
   "display_name": "Python 3",
   "language": "python",
   "name": "python3"
  },
  "language_info": {
   "codemirror_mode": {
    "name": "ipython",
    "version": 3
   },
   "file_extension": ".py",
   "mimetype": "text/x-python",
   "name": "python",
   "nbconvert_exporter": "python",
   "pygments_lexer": "ipython3",
   "version": "3.7.1"
  }
 },
 "nbformat": 4,
 "nbformat_minor": 2
}
